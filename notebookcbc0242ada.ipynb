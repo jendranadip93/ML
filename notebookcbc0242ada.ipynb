{
 "cells": [
  {
   "cell_type": "code",
   "execution_count": 1,
   "id": "b97a24d7",
   "metadata": {
    "_cell_guid": "b1076dfc-b9ad-4769-8c92-a6c4dae69d19",
    "_uuid": "8f2839f25d086af736a60e9eeb907d3b93b6e0e5",
    "execution": {
     "iopub.execute_input": "2021-10-16T20:57:34.903644Z",
     "iopub.status.busy": "2021-10-16T20:57:34.902417Z",
     "iopub.status.idle": "2021-10-16T20:57:34.925830Z",
     "shell.execute_reply": "2021-10-16T20:57:34.925041Z",
     "shell.execute_reply.started": "2021-10-16T20:26:59.634010Z"
    },
    "papermill": {
     "duration": 0.038509,
     "end_time": "2021-10-16T20:57:34.926043",
     "exception": false,
     "start_time": "2021-10-16T20:57:34.887534",
     "status": "completed"
    },
    "tags": []
   },
   "outputs": [
    {
     "name": "stdout",
     "output_type": "stream",
     "text": [
      "/kaggle/input/data-gaji/Salary_Data.csv\n"
     ]
    }
   ],
   "source": [
    "# This Python 3 environment comes with many helpful analytics libraries installed\n",
    "# It is defined by the kaggle/python Docker image: https://github.com/kaggle/docker-python\n",
    "# For example, here's several helpful packages to load\n",
    "\n",
    "import numpy as np # linear algebra\n",
    "import pandas as pd # data processing, CSV file I/O (e.g. pd.read_csv)\n",
    "\n",
    "# Input data files are available in the read-only \"../input/\" directory\n",
    "# For example, running this (by clicking run or pressing Shift+Enter) will list all files under the input directory\n",
    "\n",
    "import os\n",
    "for dirname, _, filenames in os.walk('/kaggle/input'):\n",
    "    for filename in filenames:\n",
    "        print(os.path.join(dirname, filename))\n",
    "\n",
    "# You can write up to 20GB to the current directory (/kaggle/working/) that gets preserved as output when you create a version using \"Save & Run All\" \n",
    "# You can also write temporary files to /kaggle/temp/, but they won't be saved outside of the current session"
   ]
  },
  {
   "cell_type": "code",
   "execution_count": 2,
   "id": "663a6a8e",
   "metadata": {
    "execution": {
     "iopub.execute_input": "2021-10-16T20:57:34.954755Z",
     "iopub.status.busy": "2021-10-16T20:57:34.953996Z",
     "iopub.status.idle": "2021-10-16T20:57:34.966346Z",
     "shell.execute_reply": "2021-10-16T20:57:34.966821Z",
     "shell.execute_reply.started": "2021-10-16T20:26:59.676814Z"
    },
    "papermill": {
     "duration": 0.029294,
     "end_time": "2021-10-16T20:57:34.967082",
     "exception": false,
     "start_time": "2021-10-16T20:57:34.937788",
     "status": "completed"
    },
    "tags": []
   },
   "outputs": [],
   "source": [
    "df = pd.read_csv(\"/kaggle/input/data-gaji/Salary_Data.csv\")"
   ]
  },
  {
   "cell_type": "code",
   "execution_count": 3,
   "id": "e5d74c05",
   "metadata": {
    "execution": {
     "iopub.execute_input": "2021-10-16T20:57:34.997964Z",
     "iopub.status.busy": "2021-10-16T20:57:34.990636Z",
     "iopub.status.idle": "2021-10-16T20:57:35.015111Z",
     "shell.execute_reply": "2021-10-16T20:57:35.015653Z",
     "shell.execute_reply.started": "2021-10-16T20:26:59.695680Z"
    },
    "papermill": {
     "duration": 0.038474,
     "end_time": "2021-10-16T20:57:35.015850",
     "exception": false,
     "start_time": "2021-10-16T20:57:34.977376",
     "status": "completed"
    },
    "tags": []
   },
   "outputs": [
    {
     "data": {
      "text/html": [
       "<div>\n",
       "<style scoped>\n",
       "    .dataframe tbody tr th:only-of-type {\n",
       "        vertical-align: middle;\n",
       "    }\n",
       "\n",
       "    .dataframe tbody tr th {\n",
       "        vertical-align: top;\n",
       "    }\n",
       "\n",
       "    .dataframe thead th {\n",
       "        text-align: right;\n",
       "    }\n",
       "</style>\n",
       "<table border=\"1\" class=\"dataframe\">\n",
       "  <thead>\n",
       "    <tr style=\"text-align: right;\">\n",
       "      <th></th>\n",
       "      <th>YearsExperience</th>\n",
       "      <th>Salary</th>\n",
       "    </tr>\n",
       "  </thead>\n",
       "  <tbody>\n",
       "    <tr>\n",
       "      <th>0</th>\n",
       "      <td>1.1</td>\n",
       "      <td>39343</td>\n",
       "    </tr>\n",
       "    <tr>\n",
       "      <th>1</th>\n",
       "      <td>1.3</td>\n",
       "      <td>46205</td>\n",
       "    </tr>\n",
       "    <tr>\n",
       "      <th>2</th>\n",
       "      <td>1.5</td>\n",
       "      <td>37731</td>\n",
       "    </tr>\n",
       "    <tr>\n",
       "      <th>3</th>\n",
       "      <td>2.0</td>\n",
       "      <td>43525</td>\n",
       "    </tr>\n",
       "    <tr>\n",
       "      <th>4</th>\n",
       "      <td>2.2</td>\n",
       "      <td>39891</td>\n",
       "    </tr>\n",
       "  </tbody>\n",
       "</table>\n",
       "</div>"
      ],
      "text/plain": [
       "   YearsExperience  Salary\n",
       "0              1.1   39343\n",
       "1              1.3   46205\n",
       "2              1.5   37731\n",
       "3              2.0   43525\n",
       "4              2.2   39891"
      ]
     },
     "execution_count": 3,
     "metadata": {},
     "output_type": "execute_result"
    }
   ],
   "source": [
    "df.head()"
   ]
  },
  {
   "cell_type": "code",
   "execution_count": 4,
   "id": "6e8d7899",
   "metadata": {
    "execution": {
     "iopub.execute_input": "2021-10-16T20:57:35.044487Z",
     "iopub.status.busy": "2021-10-16T20:57:35.043511Z",
     "iopub.status.idle": "2021-10-16T20:57:35.052841Z",
     "shell.execute_reply": "2021-10-16T20:57:35.053380Z",
     "shell.execute_reply.started": "2021-10-16T20:26:59.719851Z"
    },
    "papermill": {
     "duration": 0.024553,
     "end_time": "2021-10-16T20:57:35.053588",
     "exception": false,
     "start_time": "2021-10-16T20:57:35.029035",
     "status": "completed"
    },
    "tags": []
   },
   "outputs": [],
   "source": [
    "X = df.iloc[:, :-1]\n",
    "y = df.iloc[:, 1]"
   ]
  },
  {
   "cell_type": "code",
   "execution_count": 5,
   "id": "347d51df",
   "metadata": {
    "execution": {
     "iopub.execute_input": "2021-10-16T20:57:35.079736Z",
     "iopub.status.busy": "2021-10-16T20:57:35.078721Z",
     "iopub.status.idle": "2021-10-16T20:57:36.228651Z",
     "shell.execute_reply": "2021-10-16T20:57:36.229244Z",
     "shell.execute_reply.started": "2021-10-16T20:26:59.730334Z"
    },
    "papermill": {
     "duration": 1.165259,
     "end_time": "2021-10-16T20:57:36.229465",
     "exception": false,
     "start_time": "2021-10-16T20:57:35.064206",
     "status": "completed"
    },
    "tags": []
   },
   "outputs": [],
   "source": [
    "from sklearn.model_selection import train_test_split\n",
    "X_train, X_test, y_train, y_test = train_test_split(X, y, test_size=1/3, random_state=0)"
   ]
  },
  {
   "cell_type": "code",
   "execution_count": 6,
   "id": "e4e7e487",
   "metadata": {
    "execution": {
     "iopub.execute_input": "2021-10-16T20:57:36.256946Z",
     "iopub.status.busy": "2021-10-16T20:57:36.255920Z",
     "iopub.status.idle": "2021-10-16T20:57:36.375290Z",
     "shell.execute_reply": "2021-10-16T20:57:36.375832Z",
     "shell.execute_reply.started": "2021-10-16T20:27:00.791396Z"
    },
    "papermill": {
     "duration": 0.134935,
     "end_time": "2021-10-16T20:57:36.376039",
     "exception": false,
     "start_time": "2021-10-16T20:57:36.241104",
     "status": "completed"
    },
    "tags": []
   },
   "outputs": [
    {
     "data": {
      "text/plain": [
       "LinearRegression()"
      ]
     },
     "execution_count": 6,
     "metadata": {},
     "output_type": "execute_result"
    }
   ],
   "source": [
    "from sklearn.linear_model import LinearRegression\n",
    "regressor=LinearRegression()\n",
    "regressor.fit(X_train, y_train)"
   ]
  },
  {
   "cell_type": "code",
   "execution_count": 7,
   "id": "b692baaa",
   "metadata": {
    "execution": {
     "iopub.execute_input": "2021-10-16T20:57:36.401947Z",
     "iopub.status.busy": "2021-10-16T20:57:36.401236Z",
     "iopub.status.idle": "2021-10-16T20:57:36.406886Z",
     "shell.execute_reply": "2021-10-16T20:57:36.407462Z",
     "shell.execute_reply.started": "2021-10-16T20:27:00.902060Z"
    },
    "papermill": {
     "duration": 0.020728,
     "end_time": "2021-10-16T20:57:36.407668",
     "exception": false,
     "start_time": "2021-10-16T20:57:36.386940",
     "status": "completed"
    },
    "tags": []
   },
   "outputs": [],
   "source": [
    "y_pred = regressor.predict(X_test)"
   ]
  },
  {
   "cell_type": "code",
   "execution_count": 8,
   "id": "804392fb",
   "metadata": {
    "execution": {
     "iopub.execute_input": "2021-10-16T20:57:36.432882Z",
     "iopub.status.busy": "2021-10-16T20:57:36.432186Z",
     "iopub.status.idle": "2021-10-16T20:57:36.806322Z",
     "shell.execute_reply": "2021-10-16T20:57:36.806846Z",
     "shell.execute_reply.started": "2021-10-16T20:27:00.909660Z"
    },
    "papermill": {
     "duration": 0.388601,
     "end_time": "2021-10-16T20:57:36.807049",
     "exception": false,
     "start_time": "2021-10-16T20:57:36.418448",
     "status": "completed"
    },
    "tags": []
   },
   "outputs": [
    {
     "data": {
      "image/png": "[encoded data removed]",
      "text/plain": [
       "<Figure size 432x288 with 1 Axes>"
      ]
     },
     "metadata": {
      "needs_background": "light"
     },
     "output_type": "display_data"
    }
   ],
   "source": [
    "import matplotlib.pyplot as plt\n",
    "plt.scatter(X_train, y_train, color=\"green\")\n",
    "plt.plot(X_train, regressor.predict(X_train), color=\"red\")\n",
    "plt.title(\"Years Experience VS Salary\")\n",
    "plt.xlabel(\"Years Experience\")\n",
    "plt.ylabel(\"Salary\")\n",
    "plt.show()"
   ]
  },
  {
   "cell_type": "code",
   "execution_count": 9,
   "id": "9deffaf4",
   "metadata": {
    "execution": {
     "iopub.execute_input": "2021-10-16T20:57:36.854919Z",
     "iopub.status.busy": "2021-10-16T20:57:36.854088Z",
     "iopub.status.idle": "2021-10-16T20:57:37.039476Z",
     "shell.execute_reply": "2021-10-16T20:57:37.038776Z",
     "shell.execute_reply.started": "2021-10-16T20:27:01.170597Z"
    },
    "papermill": {
     "duration": 0.220963,
     "end_time": "2021-10-16T20:57:37.039644",
     "exception": false,
     "start_time": "2021-10-16T20:57:36.818681",
     "status": "completed"
    },
    "tags": []
   },
   "outputs": [
    {
     "data": {
      "image/png": "[encoded data removed]",
      "text/plain": [
       "<Figure size 432x288 with 1 Axes>"
      ]
     },
     "metadata": {
      "needs_background": "light"
     },
     "output_type": "display_data"
    }
   ],
   "source": [
    "plt.scatter(X_test, y_test, color=\"green\")\n",
    "plt.plot(X_train, regressor.predict(X_train), color=\"red\")\n",
    "plt.title(\"Years Experience VS Salary\")\n",
    "plt.xlabel(\"Years Experience\")\n",
    "plt.ylabel(\"Salary\")\n",
    "plt.show()"
   ]
  },
  {
   "cell_type": "code",
   "execution_count": 10,
   "id": "0f567ad8",
   "metadata": {
    "execution": {
     "iopub.execute_input": "2021-10-16T20:57:37.072243Z",
     "iopub.status.busy": "2021-10-16T20:57:37.071491Z",
     "iopub.status.idle": "2021-10-16T20:57:37.075022Z",
     "shell.execute_reply": "2021-10-16T20:57:37.075580Z",
     "shell.execute_reply.started": "2021-10-16T20:27:01.510906Z"
    },
    "papermill": {
     "duration": 0.023232,
     "end_time": "2021-10-16T20:57:37.075896",
     "exception": false,
     "start_time": "2021-10-16T20:57:37.052664",
     "status": "completed"
    },
    "tags": []
   },
   "outputs": [
    {
     "name": "stdout",
     "output_type": "stream",
     "text": [
      "The salary for that amount of years experience is:  [167005.32889087]\n"
     ]
    }
   ],
   "source": [
    "salary_pred = regressor.predict([[15]])\n",
    "print(\"The salary for that amount of years experience is: \", salary_pred)"
   ]
  }
 ],
 "metadata": {
  "kernelspec": {
   "display_name": "Python 3",
   "language": "python",
   "name": "python3"
  },
  "language_info": {
   "codemirror_mode": {
    "name": "ipython",
    "version": 3
   },
   "file_extension": ".py",
   "mimetype": "text/x-python",
   "name": "python",
   "nbconvert_exporter": "python",
   "pygments_lexer": "ipython3",
   "version": "3.7.10"
  },
  "papermill": {
   "default_parameters": {},
   "duration": 14.020911,
   "end_time": "2021-10-16T20:57:37.903330",
   "environment_variables": {},
   "exception": null,
   "input_path": "__notebook__.ipynb",
   "output_path": "__notebook__.ipynb",
   "parameters": {},
   "start_time": "2021-10-16T20:57:23.882419",
   "version": "2.3.3"
  }
 },
 "nbformat": 4,
 "nbformat_minor": 5
}
